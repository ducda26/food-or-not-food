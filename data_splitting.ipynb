{
 "cells": [
  {
   "cell_type": "code",
   "execution_count": null,
   "metadata": {},
   "outputs": [],
   "source": [
    "import os\n",
    "from shutil import copy2 \n",
    "import random\n",
    "# # for dirs, sub_dirs, files in os.walk(\"data/imagenet_images\"):\n",
    "#     print(dirs)\n",
    "#     print(sub_dirs)\n",
    "#     print(files)"
   ]
  },
  {
   "cell_type": "code",
   "execution_count": null,
   "metadata": {},
   "outputs": [],
   "source": [
    "def create_train_test_list(target_dir):\n",
    "    random.seed(42)\n",
    "    image_list = [os.path.join(target_dir, img_path) for img_path in os.listdir(target_dir)]\n",
    "    train_split = int(0.8 * len(image_list))\n",
    "    train_image_list = random.sample(image_list, train_split)\n",
    "    test_image_list = list(set(image_list).difference(set(train_image_list)))\n",
    "    return train_image_list, test_image_list\n",
    "\n",
    "train_image_list, test_image_list = create_train_test_list(\"data/model_test_images/abutment\")\n",
    "len(train_image_list), len(test_image_list)"
   ]
  },
  {
   "cell_type": "code",
   "execution_count": null,
   "metadata": {},
   "outputs": [],
   "source": [
    "def copy_images_to_file(img_path_list, target_dir, train=True):\n",
    "        if train:\n",
    "            split_dir = \"train\"\n",
    "        else:\n",
    "            split_dir = \"test\"\n",
    "\n",
    "        # Copy images \n",
    "        for image_path in img_path_list:\n",
    "            image_file_name = os.path.split(image_path)[-1]\n",
    "            dest_path = os.path.join(target_dir, split_dir, image_dir, image_file_name)\n",
    "            print(f\"Copying: {image_path} to {dest_path}\")\n",
    "            copy2(image_path, dest_path)"
   ]
  },
  {
   "cell_type": "code",
   "execution_count": null,
   "metadata": {},
   "outputs": [],
   "source": [
    "# Create a function to move images\n",
    "data_dir = \"data/model_test_images\"\n",
    "target_dir = \"data/model_test_images_split\"\n",
    "for image_dir in os.listdir(data_dir):\n",
    "    for split_dir in [\"train\", \"test\"]:\n",
    "        os.makedirs(os.path.join(target_dir, split_dir, image_dir), exist_ok=True)\n",
    "\n",
    "    # Make training and test lists of target images\n",
    "    train_image_list, test_image_list = create_train_test_list(os.path.join(data_dir, image_dir))\n",
    "\n",
    "    # Copy training images\n",
    "    copy_images_to_file(img_path_list=train_image_list, \n",
    "                        target_dir=target_dir, \n",
    "                        train=True)\n",
    "\n",
    "    # Copy testing images\n",
    "    copy_images_to_file(img_path_list=test_image_list, \n",
    "                        target_dir=target_dir, \n",
    "                        train=False)"
   ]
  },
  {
   "cell_type": "code",
   "execution_count": null,
   "metadata": {},
   "outputs": [],
   "source": [
    "# Extract food_images files and move to train/food_images\n",
    "# Do the same with test & non_food_images\n",
    "food_image_filepaths = []\n",
    "for dir, sub_dir, files in os.walk(\"data/food_images/\"):\n",
    "    for file in files:\n",
    "        food_image_filepaths.append(os.path.join(dir, file))\n",
    "\n",
    "non_food_image_filepaths = []\n",
    "for dir, sub_dir, files in os.walk(\"data/non_food_images/\"):\n",
    "    for file in files:\n",
    "        non_food_image_filepaths.append(os.path.join(dir, file))\n",
    "food_image_filepaths[:5], non_food_image_filepaths[:5]\n"
   ]
  },
  {
   "cell_type": "code",
   "execution_count": null,
   "metadata": {},
   "outputs": [],
   "source": [
    "def create_train_test_list(image_list):\n",
    "    random.seed(42)\n",
    "    # image_list = [os.path.join(target_dir, img_path) for img_path in os.listdir(target_dir)]\n",
    "    train_split = int(0.8 * len(image_list))\n",
    "    train_image_list = random.sample(image_list, train_split)\n",
    "    test_image_list = list(set(image_list).difference(set(train_image_list)))\n",
    "    return train_image_list, test_image_list\n",
    "\n",
    "train_image_list, test_image_list = create_train_test_list(food_image_filepaths)\n",
    "len(train_image_list), len(test_image_list)"
   ]
  },
  {
   "cell_type": "code",
   "execution_count": null,
   "metadata": {},
   "outputs": [],
   "source": [
    "# Move to train and test\n",
    "def copy_images_to_file(img_path_list, split_dir):\n",
    "        # Copy images \n",
    "        for image_path in img_path_list:\n",
    "            image_file_name = os.path.split(image_path)[-1]\n",
    "            dest_path = os.path.join(target_dir, split_dir, image_dir, image_file_name)\n",
    "            print(f\"Copying: {image_path} to {dest_path}\")\n",
    "            copy2(image_path, dest_path)"
   ]
  },
  {
   "cell_type": "code",
   "execution_count": null,
   "metadata": {},
   "outputs": [],
   "source": [
    "train_images, test_images = create_train_test_list(food_image_filepaths)\n",
    "\n",
    "# Training images\n",
    "def copy_images_to_file(image_list, target_dir):\n",
    "    # target_dir = \"data/train/food_images/\"\n",
    "    os.makedirs(target_dir, exist_ok=True)\n",
    "    for image_path in image_list:\n",
    "        image_filename = os.path.split(image_path)[-1]\n",
    "        # print(image_filename)\n",
    "        dest_path = os.path.join(target_dir, image_filename)\n",
    "        print(f\"Copying {image_path} to {dest_path}\")\n",
    "        copy2(image_path, dest_path)\n",
    "\n",
    "print(test_images)\n",
    "copy_images_to_file(image_list=train_images, target_dir=\"data/train/food_images/\")\n",
    "copy_images_to_file(image_list=test_images, target_dir=\"data/test/food_images/\")"
   ]
  },
  {
   "cell_type": "code",
   "execution_count": null,
   "metadata": {},
   "outputs": [],
   "source": [
    "train_images, test_images = create_train_test_list(food_image_filepaths)\n",
    "\n",
    "# Training images\n",
    "target_dir = \"data/train/food_images/\"\n",
    "os.makedirs(target_dir, exist_ok=True)\n",
    "for image_path in train_images:\n",
    "    image_filename = os.path.split(image_path)[-1]\n",
    "    # print(image_filename)\n",
    "    dest_path = os.path.join(target_dir, image_filename)\n",
    "    print(f\"Copying {image_path} to {dest_path}\")\n",
    "    copy2(image_path, dest_path)\n",
    "\n",
    "# Test images\n",
    "target_dir = \"data/test/food_images/\"\n",
    "os.makedirs(target_dir, exist_ok=True)\n",
    "for image_path in test_images:\n",
    "    image_filename = os.path.split(image_path)[-1]\n",
    "    # print(image_filename)\n",
    "    dest_path = os.path.join(target_dir, image_filename)\n",
    "    print(f\"Copying {image_path} to {dest_path}\")\n",
    "    copy2(image_path, dest_path)\n",
    "\n",
    "        \n"
   ]
  },
  {
   "cell_type": "code",
   "execution_count": null,
   "metadata": {},
   "outputs": [],
   "source": []
  }
 ],
 "metadata": {
  "kernelspec": {
   "display_name": "Python 3.9.12 ('base')",
   "language": "python",
   "name": "python3"
  },
  "language_info": {
   "codemirror_mode": {
    "name": "ipython",
    "version": 3
   },
   "file_extension": ".py",
   "mimetype": "text/x-python",
   "name": "python",
   "nbconvert_exporter": "python",
   "pygments_lexer": "ipython3",
   "version": "3.9.12"
  },
  "orig_nbformat": 4,
  "vscode": {
   "interpreter": {
    "hash": "23a795299434d24c2c94647c9918e428da5af2cf42876b549b1c1454961983fc"
   }
  }
 },
 "nbformat": 4,
 "nbformat_minor": 2
}
