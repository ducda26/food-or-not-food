{
 "cells": [
  {
   "cell_type": "code",
   "execution_count": 1,
   "metadata": {},
   "outputs": [
    {
     "name": "stderr",
     "output_type": "stream",
     "text": [
      "2022-11-12 16:48:02.130937: W tensorflow/stream_executor/platform/default/dso_loader.cc:64] Could not load dynamic library 'libcudart.so.11.0'; dlerror: libcudart.so.11.0: cannot open shared object file: No such file or directory\n",
      "2022-11-12 16:48:02.130978: I tensorflow/stream_executor/cuda/cudart_stub.cc:29] Ignore above cudart dlerror if you do not have a GPU set up on your machine.\n"
     ]
    }
   ],
   "source": [
    "# !pip install pydot\n",
    "# !pip install wandb\n",
    "# Get helper_functions.py script from course GitHub\n",
    "# !wget https://raw.githubusercontent.com/mrdbourke/tensorflow-deep-learning/main/extras/helper_functions.py \n",
    "\n",
    "# Import helper functions we're going to use\n",
    "from helper_functions import create_tensorboard_callback, plot_loss_curves, unzip_data, walk_through_dir"
   ]
  },
  {
   "cell_type": "code",
   "execution_count": 2,
   "metadata": {},
   "outputs": [
    {
     "name": "stderr",
     "output_type": "stream",
     "text": [
      "Failed to detect the name of this notebook, you can set it manually with the WANDB_NOTEBOOK_NAME environment variable to enable code saving.\n",
      "\u001b[34m\u001b[1mwandb\u001b[0m: Logging into wandb.ai. (Learn how to deploy a W&B server locally: https://wandb.me/wandb-server)\n",
      "\u001b[34m\u001b[1mwandb\u001b[0m: You can find your API key in your browser here: https://wandb.ai/authorize\n",
      "\u001b[34m\u001b[1mwandb\u001b[0m: Paste an API key from your profile and hit enter, or press ctrl+c to quit:\u001b[34m\u001b[1mwandb\u001b[0m: Appending key for api.wandb.ai to your netrc file: /home/anhduc/.netrc\n"
     ]
    },
    {
     "data": {
      "text/html": [
       "Tracking run with wandb version 0.13.5"
      ],
      "text/plain": [
       "<IPython.core.display.HTML object>"
      ]
     },
     "metadata": {},
     "output_type": "display_data"
    },
    {
     "data": {
      "text/html": [
       "Run data is saved locally in <code>/home/anhduc/project/tf/food-or-not-food/wandb/run-20221112_164826-wi72kbbb</code>"
      ],
      "text/plain": [
       "<IPython.core.display.HTML object>"
      ]
     },
     "metadata": {},
     "output_type": "display_data"
    },
    {
     "data": {
      "text/html": [
       "Syncing run <strong><a href=\"https://wandb.ai/anhduc26/food_v1/runs/wi72kbbb\" target=\"_blank\">atomic-meadow-1</a></strong> to <a href=\"https://wandb.ai/anhduc26/food_v1\" target=\"_blank\">Weights & Biases</a> (<a href=\"https://wandb.me/run\" target=\"_blank\">docs</a>)<br/>"
      ],
      "text/plain": [
       "<IPython.core.display.HTML object>"
      ]
     },
     "metadata": {},
     "output_type": "display_data"
    },
    {
     "data": {
      "text/html": [
       "<button onClick=\"this.nextSibling.style.display='block';this.style.display='none';\">Display W&B run</button><iframe src=\"https://wandb.ai/anhduc26/food_v1/runs/wi72kbbb?jupyter=true\" style=\"border:none;width:100%;height:420px;display:none;\"></iframe>"
      ],
      "text/plain": [
       "<wandb.sdk.wandb_run.Run at 0x7f13c5313c40>"
      ]
     },
     "execution_count": 2,
     "metadata": {},
     "output_type": "execute_result"
    }
   ],
   "source": [
    "import wandb\n",
    "wandb.tensorboard.patch(root_logdir=\"logs\")\n",
    "wandb.init(project=\"food_v1\", sync_tensorboard=True)"
   ]
  },
  {
   "cell_type": "code",
   "execution_count": 3,
   "metadata": {},
   "outputs": [],
   "source": [
    "import tensorflow as tf\n",
    "tf.get_logger().setLevel('INFO')"
   ]
  },
  {
   "cell_type": "code",
   "execution_count": 4,
   "metadata": {},
   "outputs": [
    {
     "name": "stderr",
     "output_type": "stream",
     "text": [
      "2022-11-12 16:49:15.994515: W tensorflow/stream_executor/platform/default/dso_loader.cc:64] Could not load dynamic library 'libcuda.so.1'; dlerror: libcuda.so.1: cannot open shared object file: No such file or directory\n",
      "2022-11-12 16:49:15.994597: W tensorflow/stream_executor/cuda/cuda_driver.cc:269] failed call to cuInit: UNKNOWN ERROR (303)\n",
      "2022-11-12 16:49:15.994646: I tensorflow/stream_executor/cuda/cuda_diagnostics.cc:156] kernel driver does not appear to be running on this host (Canada-2024): /proc/driver/nvidia/version does not exist\n"
     ]
    },
    {
     "data": {
      "text/plain": [
       "[PhysicalDevice(name='/physical_device:CPU:0', device_type='CPU')]"
      ]
     },
     "execution_count": 4,
     "metadata": {},
     "output_type": "execute_result"
    }
   ],
   "source": [
    "tf.config.list_physical_devices()"
   ]
  },
  {
   "cell_type": "code",
   "execution_count": 5,
   "metadata": {},
   "outputs": [
    {
     "name": "stdout",
     "output_type": "stream",
     "text": [
      "abutment  alternator  test  train\n"
     ]
    }
   ],
   "source": [
    "!ls data/model_test_images/"
   ]
  },
  {
   "cell_type": "markdown",
   "metadata": {},
   "source": [
    "## Create train/test "
   ]
  },
  {
   "cell_type": "code",
   "execution_count": 4,
   "metadata": {},
   "outputs": [
    {
     "name": "stdout",
     "output_type": "stream",
     "text": [
      "mkdir: cannot create directory ‘data/model_test_images/train’: File exists\n",
      "mkdir: cannot create directory ‘data/model_test_images/test’: File exists\n"
     ]
    }
   ],
   "source": [
    "!mkdir data/model_test_images/train\n",
    "!mkdir data/model_test_images/test"
   ]
  },
  {
   "cell_type": "code",
   "execution_count": 6,
   "metadata": {},
   "outputs": [
    {
     "name": "stdout",
     "output_type": "stream",
     "text": [
      "data/model_test_images/\n",
      "['abutment', 'alternator', 'test', 'train']\n",
      "[]\n",
      "data/model_test_images/abutment\n",
      "[]\n",
      "['47563706_ffe6fbefc3.jpg', '935410441_b9083f6ef3.jpg', '2776508407_1fe807f53a.jpg', '2447660499_9da210ef11.jpg', '2447660471_b19bdb910b.jpg', '92766458_ab9c0d18df.jpg', '315625810_f65f776cf1.jpg', '2919956213_3634ce3cba.jpg', '321711756_6022e72426.jpg', '246687783_164f9fc7ab.jpg', '2586827913_1f0f2750b0.jpg', '528017850_2ed9829747.jpg', '289010302_fa8076b6cc.jpg', '2758268383_cfa2e1d7e4.jpg', '2985169574_7e7edcc98c.jpg', '2348577334_155af177c8.jpg', '1026568654_e1e64b3ad4.jpg', '2661810388_8a2fc960d3.jpg', '2186537898_f2a96d48fc.jpg', '235904543_13c06b62eb_o.jpg', '418152134_6d89da684a.jpg', '135622703_b4a7215a0b.jpg', '2179861791_97f3422f2c.jpg', '3104837405_2d87b9ec90.jpg', '2548844289_c5a3c9496e.jpg', '3451095083_622be10e78.jpg', '842943998_5f075b5d82.jpg', '47563705_63649f916f.jpg', '89781378_aa05fa4903.jpg', '160567759_cfb8f795c5_o.jpg', '442992399_2eb906acc8.jpg', '1207625306_3d0abf1480.jpg', '2469785341_843ae1a7f5.jpg', '2915771180_d5bee2433e.jpg', '92766528_7028305692.jpg', '272338336_1d698edbb7.jpg', '2928734791_f66414d31c.jpg', '302335969_06ec18ac0b.jpg', '970610892_91db136240.jpg', '47857021_785b3cc213.jpg', '1025726331_532f9ceb24.jpg', '2400448601_9c5e3c5bc9.jpg', '246688461_fa49b41553.jpg', '2929600010_6f87fa195f.jpg', '43606242_13d650d3a8.jpg', '2929597504_95faf18bcb.jpg', '2810696376_b258da8a31.jpg', '1025722621_f6fdd16b9c.jpg', '133584472_204527c8f1.jpg', '2696404655_8a9c99594f.jpg', '426146385_8bca946fed.jpg', '47563709_1de15c01e6.jpg', '2891145504_da885b6366.jpg', '92766569_b061c320b5.jpg', '1026578090_43cac0a6ce.jpg']\n",
      "data/model_test_images/alternator\n",
      "[]\n",
      "['3061851766_f9f85491e9.jpg', '1700424085_d1fadce473.jpg', '1094963646_34edacc502.jpg', '685823231_2321b90770.jpg', '404417205_9d0ddf61db.jpg', '3588630976_d5b04ea119.jpg', '3563047078_492b87f925.jpg', '3486684439_344d9465ec.jpg', '152001418_d57105cbef.jpg', '3722422002_3865d3bf87.jpg', '1309331137_066dbad5e7.jpg', '514066397_b362ae692d.jpg', '2299428998_cabc7a8e07.jpg', '2971297863_d3f505ea84.jpg', '3329723459_def4394307.jpg', '1309333529_5c1522abfe.jpg', '3795983854_b1669c1fab.jpg', '3481322232_7071d07a10.jpg', '2188814450_0db35e0517.jpg', '3384099483_cf4d3bdc46.jpg', '2784231009_a5847649a3.jpg', '2241318919_d1fd204266.jpg', '3830425608_7040e40607.jpg', '1021453182_9fb9cd6e33.jpg', '3098240259_74290abc5b.jpg', '3072513757_f0a7382f30.jpg', '2382257443_4bf1de6367.jpg', '100993626_7bfc5b9105.jpg', '2412282150_152d97308d.jpg', '272312011_90364c5e2e.jpg', '3285870697_beded951ab.jpg', '2231724996_f1f48a99dd.jpg', '3795181951_a03b717973.jpg', '3473904762_d2f031afd3.jpg', '3334250436_250f57eed3.jpg', '1465547318_182f95ca04.jpg', '358814031_1fc1866d49.jpg', '3179322479_39f8bab5fc.jpg', '31051963_ec055cd5a0.jpg', '404417415_e783c54fa8.jpg', '3074389389_74c1bee383.jpg', '2511117773_4d46d2dc29.jpg', '3073349846_beeb1a0c2f.jpg', '2338036153_ca188d6f11.jpg', '404415997_c72493f058.jpg', '62548478_2ac1f6b37e.jpg', '2060177465_ea9fc47695.jpg', '233982029_21a324d00a.jpg', '3514737112_f9a276a52c.jpg', '24098623_65033c404f.jpg', '2338871178_1857fd89b8.jpg', '2311527665_62140e62ce.jpg', '1946724218_0511c0fe0f.jpg', '2088298856_da77581f7c.jpg', '3078495583_1c17e2645c.jpg', '3066407207_2f29a2e825.jpg', '3693191621_2963ea03e7.jpg']\n",
      "data/model_test_images/test\n",
      "[]\n",
      "[]\n",
      "data/model_test_images/train\n",
      "[]\n",
      "[]\n"
     ]
    }
   ],
   "source": [
    "import os\n",
    "for dirs, sub_dirs, files in os.walk(\"data/model_test_images/\"):\n",
    "    print(dirs)\n",
    "    print(sub_dirs)\n",
    "    print(files)"
   ]
  },
  {
   "cell_type": "code",
   "execution_count": 7,
   "metadata": {},
   "outputs": [
    {
     "data": {
      "text/plain": [
       "['abutment', 'alternator', 'test', 'train']"
      ]
     },
     "execution_count": 7,
     "metadata": {},
     "output_type": "execute_result"
    }
   ],
   "source": [
    "target_dirs = os.listdir(\"data/model_test_images\")\n",
    "target_dirs"
   ]
  },
  {
   "cell_type": "code",
   "execution_count": 8,
   "metadata": {},
   "outputs": [
    {
     "data": {
      "text/plain": [
       "(45, 12)"
      ]
     },
     "execution_count": 8,
     "metadata": {},
     "output_type": "execute_result"
    }
   ],
   "source": [
    "import random\n",
    "def create_train_test_list(target_dir):\n",
    "    random.seed(42)\n",
    "    image_list = [os.path.join(target_dir, img_path) for img_path in os.listdir(target_dir)]\n",
    "    train_split = int(0.8 * len(image_list))\n",
    "    train_image_list = random.sample(image_list, train_split)\n",
    "    test_image_list = list(set(image_list).difference(set(train_image_list)))\n",
    "    return train_image_list, test_image_list\n",
    "\n",
    "train_image_list, test_image_list = create_train_test_list(\"data/model_test_images/alternator\")\n",
    "len(train_image_list), len(test_image_list)"
   ]
  },
  {
   "cell_type": "code",
   "execution_count": 9,
   "metadata": {},
   "outputs": [],
   "source": [
    "def copy_images_to_file(img_path_list, target_dir, train=True):\n",
    "        if train:\n",
    "            split_dir = \"train\"\n",
    "        else:\n",
    "            split_dir = \"test\"\n",
    "\n",
    "        # Copy images \n",
    "        for image_path in img_path_list:\n",
    "            image_file_name = os.path.split(image_path)[-1]\n",
    "            dest_path = os.path.join(target_dir, split_dir, image_dir, image_file_name)\n",
    "            print(f\"Copying: {image_path} to {dest_path}\")\n",
    "            copy2(image_path, dest_path)"
   ]
  },
  {
   "cell_type": "code",
   "execution_count": 10,
   "metadata": {},
   "outputs": [
    {
     "name": "stdout",
     "output_type": "stream",
     "text": [
      "Copying: data/model_test_images/abutment/1025726331_532f9ceb24.jpg to data/model_test_images_split/train/abutment/1025726331_532f9ceb24.jpg\n",
      "Copying: data/model_test_images/abutment/2919956213_3634ce3cba.jpg to data/model_test_images_split/train/abutment/2919956213_3634ce3cba.jpg\n",
      "Copying: data/model_test_images/abutment/935410441_b9083f6ef3.jpg to data/model_test_images_split/train/abutment/935410441_b9083f6ef3.jpg\n",
      "Copying: data/model_test_images/abutment/1025722621_f6fdd16b9c.jpg to data/model_test_images_split/train/abutment/1025722621_f6fdd16b9c.jpg\n",
      "Copying: data/model_test_images/abutment/2661810388_8a2fc960d3.jpg to data/model_test_images_split/train/abutment/2661810388_8a2fc960d3.jpg\n",
      "Copying: data/model_test_images/abutment/2348577334_155af177c8.jpg to data/model_test_images_split/train/abutment/2348577334_155af177c8.jpg\n",
      "Copying: data/model_test_images/abutment/2985169574_7e7edcc98c.jpg to data/model_test_images_split/train/abutment/2985169574_7e7edcc98c.jpg\n",
      "Copying: data/model_test_images/abutment/321711756_6022e72426.jpg to data/model_test_images_split/train/abutment/321711756_6022e72426.jpg\n",
      "Copying: data/model_test_images/abutment/315625810_f65f776cf1.jpg to data/model_test_images_split/train/abutment/315625810_f65f776cf1.jpg\n",
      "Copying: data/model_test_images/abutment/2929600010_6f87fa195f.jpg to data/model_test_images_split/train/abutment/2929600010_6f87fa195f.jpg\n",
      "Copying: data/model_test_images/abutment/92766528_7028305692.jpg to data/model_test_images_split/train/abutment/92766528_7028305692.jpg\n",
      "Copying: data/model_test_images/abutment/92766458_ab9c0d18df.jpg to data/model_test_images_split/train/abutment/92766458_ab9c0d18df.jpg\n",
      "Copying: data/model_test_images/abutment/302335969_06ec18ac0b.jpg to data/model_test_images_split/train/abutment/302335969_06ec18ac0b.jpg\n",
      "Copying: data/model_test_images/abutment/47563705_63649f916f.jpg to data/model_test_images_split/train/abutment/47563705_63649f916f.jpg\n",
      "Copying: data/model_test_images/abutment/2776508407_1fe807f53a.jpg to data/model_test_images_split/train/abutment/2776508407_1fe807f53a.jpg\n",
      "Copying: data/model_test_images/abutment/2891145504_da885b6366.jpg to data/model_test_images_split/train/abutment/2891145504_da885b6366.jpg\n",
      "Copying: data/model_test_images/abutment/2929597504_95faf18bcb.jpg to data/model_test_images_split/train/abutment/2929597504_95faf18bcb.jpg\n",
      "Copying: data/model_test_images/abutment/2758268383_cfa2e1d7e4.jpg to data/model_test_images_split/train/abutment/2758268383_cfa2e1d7e4.jpg\n",
      "Copying: data/model_test_images/abutment/133584472_204527c8f1.jpg to data/model_test_images_split/train/abutment/133584472_204527c8f1.jpg\n",
      "Copying: data/model_test_images/abutment/2469785341_843ae1a7f5.jpg to data/model_test_images_split/train/abutment/2469785341_843ae1a7f5.jpg\n",
      "Copying: data/model_test_images/abutment/47857021_785b3cc213.jpg to data/model_test_images_split/train/abutment/47857021_785b3cc213.jpg\n",
      "Copying: data/model_test_images/abutment/289010302_fa8076b6cc.jpg to data/model_test_images_split/train/abutment/289010302_fa8076b6cc.jpg\n",
      "Copying: data/model_test_images/abutment/842943998_5f075b5d82.jpg to data/model_test_images_split/train/abutment/842943998_5f075b5d82.jpg\n",
      "Copying: data/model_test_images/abutment/2928734791_f66414d31c.jpg to data/model_test_images_split/train/abutment/2928734791_f66414d31c.jpg\n",
      "Copying: data/model_test_images/abutment/1207625306_3d0abf1480.jpg to data/model_test_images_split/train/abutment/1207625306_3d0abf1480.jpg\n",
      "Copying: data/model_test_images/abutment/2186537898_f2a96d48fc.jpg to data/model_test_images_split/train/abutment/2186537898_f2a96d48fc.jpg\n",
      "Copying: data/model_test_images/abutment/47563709_1de15c01e6.jpg to data/model_test_images_split/train/abutment/47563709_1de15c01e6.jpg\n",
      "Copying: data/model_test_images/abutment/3451095083_622be10e78.jpg to data/model_test_images_split/train/abutment/3451095083_622be10e78.jpg\n",
      "Copying: data/model_test_images/abutment/47563706_ffe6fbefc3.jpg to data/model_test_images_split/train/abutment/47563706_ffe6fbefc3.jpg\n",
      "Copying: data/model_test_images/abutment/2548844289_c5a3c9496e.jpg to data/model_test_images_split/train/abutment/2548844289_c5a3c9496e.jpg\n",
      "Copying: data/model_test_images/abutment/970610892_91db136240.jpg to data/model_test_images_split/train/abutment/970610892_91db136240.jpg\n",
      "Copying: data/model_test_images/abutment/2179861791_97f3422f2c.jpg to data/model_test_images_split/train/abutment/2179861791_97f3422f2c.jpg\n",
      "Copying: data/model_test_images/abutment/246688461_fa49b41553.jpg to data/model_test_images_split/train/abutment/246688461_fa49b41553.jpg\n",
      "Copying: data/model_test_images/abutment/2586827913_1f0f2750b0.jpg to data/model_test_images_split/train/abutment/2586827913_1f0f2750b0.jpg\n",
      "Copying: data/model_test_images/abutment/89781378_aa05fa4903.jpg to data/model_test_images_split/train/abutment/89781378_aa05fa4903.jpg\n",
      "Copying: data/model_test_images/abutment/2447660471_b19bdb910b.jpg to data/model_test_images_split/train/abutment/2447660471_b19bdb910b.jpg\n",
      "Copying: data/model_test_images/abutment/2810696376_b258da8a31.jpg to data/model_test_images_split/train/abutment/2810696376_b258da8a31.jpg\n",
      "Copying: data/model_test_images/abutment/135622703_b4a7215a0b.jpg to data/model_test_images_split/train/abutment/135622703_b4a7215a0b.jpg\n",
      "Copying: data/model_test_images/abutment/2447660499_9da210ef11.jpg to data/model_test_images_split/train/abutment/2447660499_9da210ef11.jpg\n",
      "Copying: data/model_test_images/abutment/1026578090_43cac0a6ce.jpg to data/model_test_images_split/train/abutment/1026578090_43cac0a6ce.jpg\n",
      "Copying: data/model_test_images/abutment/160567759_cfb8f795c5_o.jpg to data/model_test_images_split/train/abutment/160567759_cfb8f795c5_o.jpg\n",
      "Copying: data/model_test_images/abutment/43606242_13d650d3a8.jpg to data/model_test_images_split/train/abutment/43606242_13d650d3a8.jpg\n",
      "Copying: data/model_test_images/abutment/2400448601_9c5e3c5bc9.jpg to data/model_test_images_split/train/abutment/2400448601_9c5e3c5bc9.jpg\n",
      "Copying: data/model_test_images/abutment/2915771180_d5bee2433e.jpg to data/model_test_images_split/train/abutment/2915771180_d5bee2433e.jpg\n",
      "Copying: data/model_test_images/abutment/3104837405_2d87b9ec90.jpg to data/model_test_images_split/test/abutment/3104837405_2d87b9ec90.jpg\n",
      "Copying: data/model_test_images/abutment/442992399_2eb906acc8.jpg to data/model_test_images_split/test/abutment/442992399_2eb906acc8.jpg\n",
      "Copying: data/model_test_images/abutment/272338336_1d698edbb7.jpg to data/model_test_images_split/test/abutment/272338336_1d698edbb7.jpg\n",
      "Copying: data/model_test_images/abutment/2696404655_8a9c99594f.jpg to data/model_test_images_split/test/abutment/2696404655_8a9c99594f.jpg\n",
      "Copying: data/model_test_images/abutment/235904543_13c06b62eb_o.jpg to data/model_test_images_split/test/abutment/235904543_13c06b62eb_o.jpg\n",
      "Copying: data/model_test_images/abutment/528017850_2ed9829747.jpg to data/model_test_images_split/test/abutment/528017850_2ed9829747.jpg\n",
      "Copying: data/model_test_images/abutment/246687783_164f9fc7ab.jpg to data/model_test_images_split/test/abutment/246687783_164f9fc7ab.jpg\n",
      "Copying: data/model_test_images/abutment/1026568654_e1e64b3ad4.jpg to data/model_test_images_split/test/abutment/1026568654_e1e64b3ad4.jpg\n",
      "Copying: data/model_test_images/abutment/426146385_8bca946fed.jpg to data/model_test_images_split/test/abutment/426146385_8bca946fed.jpg\n",
      "Copying: data/model_test_images/abutment/92766569_b061c320b5.jpg to data/model_test_images_split/test/abutment/92766569_b061c320b5.jpg\n",
      "Copying: data/model_test_images/abutment/418152134_6d89da684a.jpg to data/model_test_images_split/test/abutment/418152134_6d89da684a.jpg\n",
      "Copying: data/model_test_images/alternator/3074389389_74c1bee383.jpg to data/model_test_images_split/train/alternator/3074389389_74c1bee383.jpg\n",
      "Copying: data/model_test_images/alternator/3486684439_344d9465ec.jpg to data/model_test_images_split/train/alternator/3486684439_344d9465ec.jpg\n",
      "Copying: data/model_test_images/alternator/1700424085_d1fadce473.jpg to data/model_test_images_split/train/alternator/1700424085_d1fadce473.jpg\n",
      "Copying: data/model_test_images/alternator/233982029_21a324d00a.jpg to data/model_test_images_split/train/alternator/233982029_21a324d00a.jpg\n",
      "Copying: data/model_test_images/alternator/3481322232_7071d07a10.jpg to data/model_test_images_split/train/alternator/3481322232_7071d07a10.jpg\n",
      "Copying: data/model_test_images/alternator/1309333529_5c1522abfe.jpg to data/model_test_images_split/train/alternator/1309333529_5c1522abfe.jpg\n",
      "Copying: data/model_test_images/alternator/3329723459_def4394307.jpg to data/model_test_images_split/train/alternator/3329723459_def4394307.jpg\n",
      "Copying: data/model_test_images/alternator/152001418_d57105cbef.jpg to data/model_test_images_split/train/alternator/152001418_d57105cbef.jpg\n",
      "Copying: data/model_test_images/alternator/2088298856_da77581f7c.jpg to data/model_test_images_split/train/alternator/2088298856_da77581f7c.jpg\n",
      "Copying: data/model_test_images/alternator/3563047078_492b87f925.jpg to data/model_test_images_split/train/alternator/3563047078_492b87f925.jpg\n",
      "Copying: data/model_test_images/alternator/2338036153_ca188d6f11.jpg to data/model_test_images_split/train/alternator/2338036153_ca188d6f11.jpg\n",
      "Copying: data/model_test_images/alternator/3334250436_250f57eed3.jpg to data/model_test_images_split/train/alternator/3334250436_250f57eed3.jpg\n",
      "Copying: data/model_test_images/alternator/3588630976_d5b04ea119.jpg to data/model_test_images_split/train/alternator/3588630976_d5b04ea119.jpg\n",
      "Copying: data/model_test_images/alternator/3179322479_39f8bab5fc.jpg to data/model_test_images_split/train/alternator/3179322479_39f8bab5fc.jpg\n",
      "Copying: data/model_test_images/alternator/100993626_7bfc5b9105.jpg to data/model_test_images_split/train/alternator/100993626_7bfc5b9105.jpg\n",
      "Copying: data/model_test_images/alternator/1094963646_34edacc502.jpg to data/model_test_images_split/train/alternator/1094963646_34edacc502.jpg\n",
      "Copying: data/model_test_images/alternator/3078495583_1c17e2645c.jpg to data/model_test_images_split/train/alternator/3078495583_1c17e2645c.jpg\n",
      "Copying: data/model_test_images/alternator/404415997_c72493f058.jpg to data/model_test_images_split/train/alternator/404415997_c72493f058.jpg\n",
      "Copying: data/model_test_images/alternator/2971297863_d3f505ea84.jpg to data/model_test_images_split/train/alternator/2971297863_d3f505ea84.jpg\n",
      "Copying: data/model_test_images/alternator/2338871178_1857fd89b8.jpg to data/model_test_images_split/train/alternator/2338871178_1857fd89b8.jpg\n",
      "Copying: data/model_test_images/alternator/3795181951_a03b717973.jpg to data/model_test_images_split/train/alternator/3795181951_a03b717973.jpg\n",
      "Copying: data/model_test_images/alternator/3693191621_2963ea03e7.jpg to data/model_test_images_split/train/alternator/3693191621_2963ea03e7.jpg\n",
      "Copying: data/model_test_images/alternator/2299428998_cabc7a8e07.jpg to data/model_test_images_split/train/alternator/2299428998_cabc7a8e07.jpg\n",
      "Copying: data/model_test_images/alternator/2382257443_4bf1de6367.jpg to data/model_test_images_split/train/alternator/2382257443_4bf1de6367.jpg\n",
      "Copying: data/model_test_images/alternator/2060177465_ea9fc47695.jpg to data/model_test_images_split/train/alternator/2060177465_ea9fc47695.jpg\n",
      "Copying: data/model_test_images/alternator/2412282150_152d97308d.jpg to data/model_test_images_split/train/alternator/2412282150_152d97308d.jpg\n",
      "Copying: data/model_test_images/alternator/2188814450_0db35e0517.jpg to data/model_test_images_split/train/alternator/2188814450_0db35e0517.jpg\n",
      "Copying: data/model_test_images/alternator/24098623_65033c404f.jpg to data/model_test_images_split/train/alternator/24098623_65033c404f.jpg\n",
      "Copying: data/model_test_images/alternator/3072513757_f0a7382f30.jpg to data/model_test_images_split/train/alternator/3072513757_f0a7382f30.jpg\n",
      "Copying: data/model_test_images/alternator/3073349846_beeb1a0c2f.jpg to data/model_test_images_split/train/alternator/3073349846_beeb1a0c2f.jpg\n",
      "Copying: data/model_test_images/alternator/3061851766_f9f85491e9.jpg to data/model_test_images_split/train/alternator/3061851766_f9f85491e9.jpg\n",
      "Copying: data/model_test_images/alternator/3098240259_74290abc5b.jpg to data/model_test_images_split/train/alternator/3098240259_74290abc5b.jpg\n",
      "Copying: data/model_test_images/alternator/404417415_e783c54fa8.jpg to data/model_test_images_split/train/alternator/404417415_e783c54fa8.jpg\n",
      "Copying: data/model_test_images/alternator/3830425608_7040e40607.jpg to data/model_test_images_split/train/alternator/3830425608_7040e40607.jpg\n",
      "Copying: data/model_test_images/alternator/31051963_ec055cd5a0.jpg to data/model_test_images_split/train/alternator/31051963_ec055cd5a0.jpg\n",
      "Copying: data/model_test_images/alternator/1309331137_066dbad5e7.jpg to data/model_test_images_split/train/alternator/1309331137_066dbad5e7.jpg\n",
      "Copying: data/model_test_images/alternator/272312011_90364c5e2e.jpg to data/model_test_images_split/train/alternator/272312011_90364c5e2e.jpg\n",
      "Copying: data/model_test_images/alternator/404417205_9d0ddf61db.jpg to data/model_test_images_split/train/alternator/404417205_9d0ddf61db.jpg\n",
      "Copying: data/model_test_images/alternator/3514737112_f9a276a52c.jpg to data/model_test_images_split/train/alternator/3514737112_f9a276a52c.jpg\n",
      "Copying: data/model_test_images/alternator/2241318919_d1fd204266.jpg to data/model_test_images_split/train/alternator/2241318919_d1fd204266.jpg\n",
      "Copying: data/model_test_images/alternator/685823231_2321b90770.jpg to data/model_test_images_split/train/alternator/685823231_2321b90770.jpg\n",
      "Copying: data/model_test_images/alternator/2511117773_4d46d2dc29.jpg to data/model_test_images_split/train/alternator/2511117773_4d46d2dc29.jpg\n",
      "Copying: data/model_test_images/alternator/3285870697_beded951ab.jpg to data/model_test_images_split/train/alternator/3285870697_beded951ab.jpg\n",
      "Copying: data/model_test_images/alternator/1465547318_182f95ca04.jpg to data/model_test_images_split/train/alternator/1465547318_182f95ca04.jpg\n",
      "Copying: data/model_test_images/alternator/2231724996_f1f48a99dd.jpg to data/model_test_images_split/train/alternator/2231724996_f1f48a99dd.jpg\n",
      "Copying: data/model_test_images/alternator/2311527665_62140e62ce.jpg to data/model_test_images_split/test/alternator/2311527665_62140e62ce.jpg\n",
      "Copying: data/model_test_images/alternator/3722422002_3865d3bf87.jpg to data/model_test_images_split/test/alternator/3722422002_3865d3bf87.jpg\n",
      "Copying: data/model_test_images/alternator/3066407207_2f29a2e825.jpg to data/model_test_images_split/test/alternator/3066407207_2f29a2e825.jpg\n",
      "Copying: data/model_test_images/alternator/1021453182_9fb9cd6e33.jpg to data/model_test_images_split/test/alternator/1021453182_9fb9cd6e33.jpg\n",
      "Copying: data/model_test_images/alternator/3795983854_b1669c1fab.jpg to data/model_test_images_split/test/alternator/3795983854_b1669c1fab.jpg\n",
      "Copying: data/model_test_images/alternator/62548478_2ac1f6b37e.jpg to data/model_test_images_split/test/alternator/62548478_2ac1f6b37e.jpg\n",
      "Copying: data/model_test_images/alternator/2784231009_a5847649a3.jpg to data/model_test_images_split/test/alternator/2784231009_a5847649a3.jpg\n",
      "Copying: data/model_test_images/alternator/1946724218_0511c0fe0f.jpg to data/model_test_images_split/test/alternator/1946724218_0511c0fe0f.jpg\n",
      "Copying: data/model_test_images/alternator/3473904762_d2f031afd3.jpg to data/model_test_images_split/test/alternator/3473904762_d2f031afd3.jpg\n",
      "Copying: data/model_test_images/alternator/514066397_b362ae692d.jpg to data/model_test_images_split/test/alternator/514066397_b362ae692d.jpg\n",
      "Copying: data/model_test_images/alternator/358814031_1fc1866d49.jpg to data/model_test_images_split/test/alternator/358814031_1fc1866d49.jpg\n",
      "Copying: data/model_test_images/alternator/3384099483_cf4d3bdc46.jpg to data/model_test_images_split/test/alternator/3384099483_cf4d3bdc46.jpg\n"
     ]
    }
   ],
   "source": [
    "# Create a function to move images\n",
    "from shutil import copy2 \n",
    "data_dir = \"data/model_test_images\"\n",
    "target_dir = \"data/model_test_images_split\"\n",
    "for image_dir in os.listdir(data_dir):\n",
    "    for split_dir in [\"train\", \"test\"]:\n",
    "        os.makedirs(os.path.join(target_dir, split_dir, image_dir), exist_ok=True)\n",
    "\n",
    "    # Make training and test lists of target images\n",
    "    train_image_list, test_image_list = create_train_test_list(os.path.join(data_dir, image_dir))\n",
    "\n",
    "    # Copy training images\n",
    "    copy_images_to_file(img_path_list=train_image_list, \n",
    "                        target_dir=target_dir, \n",
    "                        train=True)\n",
    "\n",
    "    # Copy testing images\n",
    "    copy_images_to_file(img_path_list=test_image_list, \n",
    "                        target_dir=target_dir, \n",
    "                        train=False)"
   ]
  },
  {
   "cell_type": "code",
   "execution_count": null,
   "metadata": {},
   "outputs": [],
   "source": [
    "# Next \n",
    "# Make model datasets from train/test folders\n",
    "# Build a model on train/test datasets\n",
    "# Evaluate model\n",
    "# Convert model to tflite for deployment..."
   ]
  },
  {
   "cell_type": "markdown",
   "metadata": {},
   "source": [
    "## Load data"
   ]
  },
  {
   "cell_type": "code",
   "execution_count": 11,
   "metadata": {},
   "outputs": [],
   "source": [
    "import tensorflow as tf\n",
    "tf.get_logger().setLevel('INFO')"
   ]
  },
  {
   "cell_type": "code",
   "execution_count": 12,
   "metadata": {},
   "outputs": [
    {
     "data": {
      "text/plain": [
       "('data/train', 'data/test')"
      ]
     },
     "execution_count": 12,
     "metadata": {},
     "output_type": "execute_result"
    }
   ],
   "source": [
    "train_dir = \"data/train\"\n",
    "test_dir = \"data/test\"\n",
    "train_dir, test_dir"
   ]
  },
  {
   "cell_type": "code",
   "execution_count": 13,
   "metadata": {},
   "outputs": [
    {
     "name": "stdout",
     "output_type": "stream",
     "text": [
      "\u001b[0m\u001b[01;34mfood_images\u001b[0m/  \u001b[01;34mnon_food_images\u001b[0m/\n"
     ]
    }
   ],
   "source": [
    "ls data/train "
   ]
  },
  {
   "cell_type": "code",
   "execution_count": null,
   "metadata": {},
   "outputs": [],
   "source": [
    "l"
   ]
  },
  {
   "cell_type": "code",
   "execution_count": 14,
   "metadata": {},
   "outputs": [
    {
     "data": {
      "text/plain": [
       "(2, 2428, 41114)"
      ]
     },
     "execution_count": 14,
     "metadata": {},
     "output_type": "execute_result"
    }
   ],
   "source": [
    "total_samples = len(os.listdir(train_dir))\n",
    "num_food_samples = len(os.listdir(os.path.join(train_dir, \"food_images\")))\n",
    "num_non_food_samples = len(os.listdir(os.path.join(train_dir, \"non_food_images\")))\n",
    "total_samples, num_food_samples, num_non_food_samples"
   ]
  },
  {
   "cell_type": "code",
   "execution_count": 26,
   "metadata": {},
   "outputs": [
    {
     "data": {
      "text/plain": [
       "(0.00041186161449752884, 0.0004122477147047936)"
      ]
     },
     "execution_count": 26,
     "metadata": {},
     "output_type": "execute_result"
    }
   ],
   "source": [
    "(1 / num_food_samples) * (total_samples / 2.0), (1 / num_non_food_samples) * (total_samples / 2.0)"
   ]
  },
  {
   "cell_type": "code",
   "execution_count": 27,
   "metadata": {},
   "outputs": [
    {
     "name": "stdout",
     "output_type": "stream",
     "text": [
      "Weight for class 0: 0.00041186161449752884\n",
      "Weight for class 1: 0.0004122477147047936\n"
     ]
    }
   ],
   "source": [
    "# Since we have a data imabalance let's get class weights\n",
    "\n",
    "# See: https://www.tensorflow.org/tutorials/structured_data/imbalanced_data\n",
    "# Scaling by total/2 helps keep the loss to a similar magnitude.\n",
    "# The sum of the weights of all examples stays the same.\n",
    "weight_for_0 = (1 / num_food_samples) * (total_samples / 2.0)\n",
    "weight_for_1 = (1 / (num_non_food_samples)) * (total_samples / 2.0)\n",
    "\n",
    "class_weight = {0: weight_for_0, 1: weight_for_1}\n",
    "\n",
    "print(f'Weight for class 0: {weight_for_0}')\n",
    "print(f'Weight for class 1: {weight_for_1}')"
   ]
  },
  {
   "cell_type": "code",
   "execution_count": 28,
   "metadata": {},
   "outputs": [
    {
     "name": "stdout",
     "output_type": "stream",
     "text": [
      "Found 43400 files belonging to 2 classes.\n"
     ]
    },
    {
     "name": "stderr",
     "output_type": "stream",
     "text": [
      "2022-11-12 16:55:18.971818: I tensorflow/core/platform/cpu_feature_guard.cc:151] This TensorFlow binary is optimized with oneAPI Deep Neural Network Library (oneDNN) to use the following CPU instructions in performance-critical operations:  AVX2 FMA\n",
      "To enable them in other operations, rebuild TensorFlow with the appropriate compiler flags.\n"
     ]
    },
    {
     "name": "stdout",
     "output_type": "stream",
     "text": [
      "Found 10519 files belonging to 2 classes.\n"
     ]
    },
    {
     "data": {
      "text/plain": [
       "(<BatchDataset shapes: ((None, 224, 224, 3), (None,)), types: (tf.float32, tf.int32)>,\n",
       " <BatchDataset shapes: ((None, 224, 224, 3), (None,)), types: (tf.float32, tf.int32)>)"
      ]
     },
     "execution_count": 28,
     "metadata": {},
     "output_type": "execute_result"
    }
   ],
   "source": [
    "# Load in data\n",
    "train_data = tf.keras.preprocessing.image_dataset_from_directory(train_dir,\n",
    "    batch_size=32,\n",
    "    image_size=(224, 224)\n",
    ")\n",
    "\n",
    "test_data = tf.keras.preprocessing.image_dataset_from_directory(test_dir,\n",
    "    batch_size=32,\n",
    "    image_size=(224, 224)\n",
    ")\n",
    "\n",
    "train_data, test_data"
   ]
  },
  {
   "cell_type": "code",
   "execution_count": 29,
   "metadata": {},
   "outputs": [
    {
     "data": {
      "text/plain": [
       "1357"
      ]
     },
     "execution_count": 29,
     "metadata": {},
     "output_type": "execute_result"
    }
   ],
   "source": [
    "len(train_data)"
   ]
  },
  {
   "cell_type": "code",
   "execution_count": 30,
   "metadata": {},
   "outputs": [
    {
     "data": {
      "text/plain": [
       "['food_images', 'non_food_images']"
      ]
     },
     "execution_count": 30,
     "metadata": {},
     "output_type": "execute_result"
    }
   ],
   "source": [
    "train_data.class_names"
   ]
  },
  {
   "cell_type": "code",
   "execution_count": 31,
   "metadata": {},
   "outputs": [],
   "source": [
    "train_data = train_data.prefetch(tf.data.AUTOTUNE)\n",
    "test_data = test_data.prefetch(tf.data.AUTOTUNE)"
   ]
  },
  {
   "cell_type": "markdown",
   "metadata": {},
   "source": [
    "## Build the first model"
   ]
  },
  {
   "cell_type": "code",
   "execution_count": 32,
   "metadata": {},
   "outputs": [],
   "source": [
    "base_model = tf.keras.applications.EfficientNetB0(include_top=False)\n",
    "\n",
    "# Make model untrainable \n",
    "base_model.trainable = False\n",
    "\n",
    "# Build a functional model\n",
    "input_layer = tf.keras.Input(shape=(224, 224, 3))\n",
    "x = base_model(input_layer)\n",
    "x = tf.keras.layers.GlobalAveragePooling2D()(x)\n",
    "output_layer = tf.keras.layers.Dense(1, activation=\"sigmoid\")(x)\n",
    "\n",
    "# Construct model\n",
    "model_1 = tf.keras.Model(input_layer, output_layer, name=\"EfficientNetB0-V1\")"
   ]
  },
  {
   "cell_type": "code",
   "execution_count": 33,
   "metadata": {},
   "outputs": [
    {
     "data": {
      "image/png": "[encoded data removed]",
      "text/plain": [
       "<IPython.core.display.Image object>"
      ]
     },
     "execution_count": 33,
     "metadata": {},
     "output_type": "execute_result"
    }
   ],
   "source": [
    "tf.keras.utils.plot_model(model_1, show_shapes=True)\n"
   ]
  },
  {
   "cell_type": "code",
   "execution_count": 34,
   "metadata": {},
   "outputs": [],
   "source": [
    "# Compile model\n",
    "model_1.compile(loss=tf.keras.losses.BinaryCrossentropy(),\n",
    "    optimizer=tf.keras.optimizers.Adam(),\n",
    "    metrics=[\"accuracy\"]\n",
    ")"
   ]
  },
  {
   "cell_type": "code",
   "execution_count": 35,
   "metadata": {},
   "outputs": [],
   "source": [
    "# Create EarlyStopping callback and TensorBoard callback\n",
    "early_stopping = tf.keras.callbacks.EarlyStopping(patience=5,\n",
    "    monitor=\"val_loss\"\n",
    ")"
   ]
  },
  {
   "cell_type": "code",
   "execution_count": 36,
   "metadata": {},
   "outputs": [
    {
     "data": {
      "text/html": [
       "Finishing last run (ID:wi72kbbb) before initializing another..."
      ],
      "text/plain": [
       "<IPython.core.display.HTML object>"
      ]
     },
     "metadata": {},
     "output_type": "display_data"
    },
    {
     "data": {
      "text/html": [
       "Waiting for W&B process to finish... <strong style=\"color:green\">(success).</strong>"
      ],
      "text/plain": [
       "<IPython.core.display.HTML object>"
      ]
     },
     "metadata": {},
     "output_type": "display_data"
    },
    {
     "data": {
      "text/html": [
       "Synced <strong style=\"color:#cdcd00\">atomic-meadow-1</strong>: <a href=\"https://wandb.ai/anhduc26/food_v1/runs/wi72kbbb\" target=\"_blank\">https://wandb.ai/anhduc26/food_v1/runs/wi72kbbb</a><br/>Synced 6 W&B file(s), 0 media file(s), 0 artifact file(s) and 0 other file(s)"
      ],
      "text/plain": [
       "<IPython.core.display.HTML object>"
      ]
     },
     "metadata": {},
     "output_type": "display_data"
    },
    {
     "data": {
      "text/html": [
       "Find logs at: <code>./wandb/run-20221112_164826-wi72kbbb/logs</code>"
      ],
      "text/plain": [
       "<IPython.core.display.HTML object>"
      ]
     },
     "metadata": {},
     "output_type": "display_data"
    },
    {
     "data": {
      "text/html": [
       "Successfully finished last run (ID:wi72kbbb). Initializing new run:<br/>"
      ],
      "text/plain": [
       "<IPython.core.display.HTML object>"
      ]
     },
     "metadata": {},
     "output_type": "display_data"
    },
    {
     "data": {
      "application/vnd.jupyter.widget-view+json": {
       "model_id": "61a790a92e064e78bf570f1f557fe1d2",
       "version_major": 2,
       "version_minor": 0
      },
      "text/plain": [
       "VBox(children=(Label(value='Waiting for wandb.init()...\\r'), FloatProgress(value=0.016669778333332868, max=1.0…"
      ]
     },
     "metadata": {},
     "output_type": "display_data"
    },
    {
     "data": {
      "text/html": [
       "Tracking run with wandb version 0.13.5"
      ],
      "text/plain": [
       "<IPython.core.display.HTML object>"
      ]
     },
     "metadata": {},
     "output_type": "display_data"
    },
    {
     "data": {
      "text/html": [
       "Run data is saved locally in <code>/home/anhduc/project/tf/food-or-not-food/wandb/run-20221112_165631-1xy07bf8</code>"
      ],
      "text/plain": [
       "<IPython.core.display.HTML object>"
      ]
     },
     "metadata": {},
     "output_type": "display_data"
    },
    {
     "data": {
      "text/html": [
       "Syncing run <strong><a href=\"https://wandb.ai/anhduc26/100k-livestream-video/runs/1xy07bf8\" target=\"_blank\">crimson-feather-1</a></strong> to <a href=\"https://wandb.ai/anhduc26/100k-livestream-video\" target=\"_blank\">Weights & Biases</a> (<a href=\"https://wandb.me/run\" target=\"_blank\">docs</a>)<br/>"
      ],
      "text/plain": [
       "<IPython.core.display.HTML object>"
      ]
     },
     "metadata": {},
     "output_type": "display_data"
    },
    {
     "name": "stdout",
     "output_type": "stream",
     "text": [
      "Saving TensorBoard log files to: logs/EfficientNetB0-V1/20221112-165645\n"
     ]
    },
    {
     "name": "stderr",
     "output_type": "stream",
     "text": [
      "/home/anhduc/anaconda3/lib/python3.9/site-packages/keras/engine/functional.py:1410: CustomMaskWarning: Custom mask layers require a config and must override get_config. When loading, the custom mask layer must be passed to the custom_objects argument.\n",
      "  layer_config = serialize_layer_fn(layer)\n"
     ]
    },
    {
     "name": "stdout",
     "output_type": "stream",
     "text": [
      "Epoch 1/5\n"
     ]
    },
    {
     "name": "stderr",
     "output_type": "stream",
     "text": [
      "2022-11-12 16:57:16.504094: W tensorflow/stream_executor/platform/default/dso_loader.cc:64] Could not load dynamic library 'libcudart.so.11.0'; dlerror: libcudart.so.11.0: cannot open shared object file: No such file or directory\n",
      "2022-11-12 16:57:16.504146: I tensorflow/stream_executor/cuda/cudart_stub.cc:29] Ignore above cudart dlerror if you do not have a GPU set up on your machine.\n"
     ]
    },
    {
     "name": "stdout",
     "output_type": "stream",
     "text": [
      "  53/1357 [>.............................] - ETA: 1:17:46 - loss: 1.5141e-04 - accuracy: 0.8697"
     ]
    }
   ],
   "source": [
    "# Fit model\n",
    "import wandb\n",
    "# wandb.tensorboard.patch(root_logdir=\"logs\")\n",
    "wandb.init(project=\"100k-livestream-video\", sync_tensorboard=True)\n",
    "history_1 = model_1.fit(train_data,\n",
    "                        epochs=5,\n",
    "                        validation_data=test_data,\n",
    "                        callbacks=[early_stopping,\n",
    "                                   create_tensorboard_callback(\"logs\", model_1.name)],\n",
    "                        class_weight=class_weight) # adjust for different numbers of classes..."
   ]
  },
  {
   "cell_type": "code",
   "execution_count": null,
   "metadata": {},
   "outputs": [],
   "source": [
    "model_1.evaluate(test_data)"
   ]
  },
  {
   "cell_type": "code",
   "execution_count": null,
   "metadata": {},
   "outputs": [],
   "source": [
    "len(os.listdir(\"data/train/food_images/\")), len(os.listdir(\"data/train/non_food_images/\"))"
   ]
  },
  {
   "cell_type": "markdown",
   "metadata": {},
   "source": [
    "## Save Model"
   ]
  },
  {
   "cell_type": "code",
   "execution_count": null,
   "metadata": {},
   "outputs": [],
   "source": [
    "model_1.save(\"food_not_food_model_v1\")"
   ]
  },
  {
   "cell_type": "markdown",
   "metadata": {},
   "source": [
    "## Convert Model to TFLite for Deployment"
   ]
  },
  {
   "cell_type": "code",
   "execution_count": null,
   "metadata": {},
   "outputs": [],
   "source": [
    "# Convert the model\n",
    "saved_model_dir = \"food_not_food_model_v1\"\n",
    "converter = tf.lite.TFLiteConverter.from_saved_model(saved_model_dir) # path to the SavedModel directory\n",
    "tflite_model = converter.convert()\n",
    "\n",
    "# Save the model.\n",
    "with open('food_not_food_model_v1.tflite', 'wb') as f:\n",
    "  f.write(tflite_model)"
   ]
  },
  {
   "cell_type": "markdown",
   "metadata": {},
   "source": [
    "## Test run TFLite model"
   ]
  },
  {
   "cell_type": "code",
   "execution_count": null,
   "metadata": {},
   "outputs": [],
   "source": [
    "import numpy as np\n",
    "import tensorflow as tf\n",
    "\n",
    "# Load the TFLite model and allocate tensors.\n",
    "interpreter = tf.lite.Interpreter(model_path=\"food_not_food_model_v1.tflite\")\n",
    "interpreter.allocate_tensors()\n",
    "\n",
    "# Get input and output tensors.\n",
    "input_details = interpreter.get_input_details()\n",
    "output_details = interpreter.get_output_details()\n",
    "\n",
    "# Test the model on random input data.\n",
    "input_shape = input_details[0]['shape']\n",
    "input_data = np.array(np.random.random_sample(input_shape), dtype=np.float32)\n",
    "interpreter.set_tensor(input_details[0]['index'], input_data)\n",
    "\n",
    "interpreter.invoke()\n",
    "\n",
    "# The function `get_tensor()` returns a copy of the tensor data.\n",
    "# Use `tensor()` in order to get a pointer to the tensor.\n",
    "output_data = interpreter.get_tensor(output_details[0]['index'])\n",
    "print(output_data)"
   ]
  },
  {
   "cell_type": "code",
   "execution_count": null,
   "metadata": {},
   "outputs": [],
   "source": [
    "input_details"
   ]
  },
  {
   "cell_type": "code",
   "execution_count": null,
   "metadata": {},
   "outputs": [],
   "source": []
  }
 ],
 "metadata": {
  "kernelspec": {
   "display_name": "Python 3.9.12 ('base')",
   "language": "python",
   "name": "python3"
  },
  "language_info": {
   "codemirror_mode": {
    "name": "ipython",
    "version": 3
   },
   "file_extension": ".py",
   "mimetype": "text/x-python",
   "name": "python",
   "nbconvert_exporter": "python",
   "pygments_lexer": "ipython3",
   "version": "3.9.12"
  },
  "orig_nbformat": 4,
  "vscode": {
   "interpreter": {
    "hash": "23a795299434d24c2c94647c9918e428da5af2cf42876b549b1c1454961983fc"
   }
  }
 },
 "nbformat": 4,
 "nbformat_minor": 2
}
